{
 "cells": [
  {
   "cell_type": "code",
   "execution_count": null,
   "metadata": {},
   "outputs": [],
   "source": [
    "import numpy as np\n",
    "from sklearn.base import clone\n",
    "from sklearn.model_selection import cross_val_predict, KFold\n",
    "import catboost\n",
    "from scipy.special import expit"
   ]
  },
  {
   "cell_type": "code",
   "execution_count": null,
   "metadata": {},
   "outputs": [],
   "source": [
    "DATA_PATH=\"/mnt/public/MuID.npz\""
   ]
  },
  {
   "cell_type": "code",
   "execution_count": null,
   "metadata": {},
   "outputs": [],
   "source": [
    "data = np.load(DATA_PATH)"
   ]
  },
  {
   "cell_type": "code",
   "execution_count": null,
   "metadata": {},
   "outputs": [],
   "source": [
    "X_train = data[\"X_train\"]\n",
    "y_train = data[\"y_train\"]\n",
    "sWeight_train = data[\"sw_train\"]\n",
    "X_test = data[\"X_test\"]\n",
    "y_test = data[\"y_test\"]\n",
    "sWeight_test = data[\"sw_test\"]"
   ]
  },
  {
   "cell_type": "code",
   "execution_count": null,
   "metadata": {},
   "outputs": [],
   "source": [
    "CPU_COUNT = 10\n",
    "CV = None\n",
    "ITERATIONS = 1000"
   ]
  },
  {
   "cell_type": "code",
   "execution_count": null,
   "metadata": {},
   "outputs": [],
   "source": [
    "params_regression = {\n",
    "         \"iterations\": ITERATIONS,\n",
    "         \"verbose\": False,\n",
    "         \"loss_function\": \"ConstrainedRegression\",\n",
    "         \"thread_count\": CPU_COUNT // CV if CV is not None else CPU_COUNT,\n",
    "         #\"learning_rate\": 5e-2,\n",
    "         #\"l2_leaf_reg\": 3,\n",
    "         #\"max_depth\": 6,\n",
    "         \"leaf_estimation_method\": \"Gradient\"}\n",
    "\n",
    "\n",
    "params_likelihood = {\n",
    "         \"iterations\": ITERATIONS,\n",
    "         \"verbose\": False,\n",
    "         \"loss_function\": \"HonestLikelihood\",\n",
    "         \"thread_count\": CPU_COUNT // CV if CV is not None else CPU_COUNT,\n",
    "         #\"learning_rate\": 5e-2,\n",
    "         #\"l2_leaf_reg\": 3,\n",
    "         #\"max_depth\": 6,\n",
    "         \"leaf_estimation_method\": \"Gradient\"}"
   ]
  },
  {
   "cell_type": "code",
   "execution_count": null,
   "metadata": {},
   "outputs": [],
   "source": [
    "#eval_set = catboost.Pool(data=X_test, label=y_test, weight=sWeight_test)\n",
    "#eval_weights = catboost.Pool(data=X_test, label=sWeight_test)"
   ]
  },
  {
   "cell_type": "code",
   "execution_count": null,
   "metadata": {},
   "outputs": [],
   "source": [
    "import catboost"
   ]
  },
  {
   "cell_type": "code",
   "execution_count": null,
   "metadata": {},
   "outputs": [],
   "source": [
    "def transform_weights(x, weights, model, cv=None):\n",
    "    model = clone(model)\n",
    "    if cv is not None:\n",
    "        if isinstance(cv, int):\n",
    "            n_jobs=cv\n",
    "            cv=KFold(cv, shuffle=True)\n",
    "        else:\n",
    "            n_jobs=cv.get_n_splits()\n",
    "        res = cross_val_predict(model, x, weights, cv=cv, n_jobs=n_jobs)\n",
    "    else:\n",
    "        res = model.fit(x, weights).predict(x)\n",
    "    if model.get_param(\"loss_function\") == \"ConstrainedRegression\":\n",
    "        return expit(res)\n",
    "    else:\n",
    "        return res"
   ]
  },
  {
   "cell_type": "code",
   "execution_count": null,
   "metadata": {},
   "outputs": [],
   "source": [
    "params_classification = {\n",
    "         \"iterations\": ITERATIONS,\n",
    "         \"verbose\": False,\n",
    "         \"loss_function\": \"CrossEntropy\",\n",
    "         \"thread_count\": CPU_COUNT,\n",
    "         #\"learning_rate\": 5e-2,\n",
    "         #\"l2_leaf_reg\": 3,\n",
    "         #\"max_depth\": 6,\n",
    "         \"leaf_estimation_method\": \"Gradient\"}"
   ]
  },
  {
   "cell_type": "code",
   "execution_count": null,
   "metadata": {},
   "outputs": [],
   "source": [
    "def roc_auc(classes : np.ndarray,\n",
    "            predictions : np.ndarray,\n",
    "            weights : np.ndarray = None) -> float:\n",
    "    if weights is None:\n",
    "        weights = np.ones_like(predictions)\n",
    "\n",
    "    assert len(classes) == len(predictions) == len(weights)\n",
    "    assert classes.ndim == predictions.ndim == weights.ndim == 1\n",
    "\n",
    "    idx = np.argsort(predictions)\n",
    "\n",
    "    predictions = predictions[idx]\n",
    "    weights     = weights    [idx]\n",
    "    classes     = classes    [idx]\n",
    "\n",
    "    weights_0 = weights * (classes == 0)\n",
    "    weights_1 = weights * (classes == 1)\n",
    "\n",
    "    cumsum_0 = weights_0.cumsum()\n",
    "    return (cumsum_0 * weights_1).sum() / (weights_1 * cumsum_0[-1]).sum()"
   ]
  },
  {
   "cell_type": "code",
   "execution_count": null,
   "metadata": {},
   "outputs": [],
   "source": [
    "def scale(a):\n",
    "    b = a - a.min()\n",
    "    b /= b.max()\n",
    "    return b"
   ]
  },
  {
   "cell_type": "code",
   "execution_count": null,
   "metadata": {},
   "outputs": [],
   "source": [
    "def probabilities_from_s_weights(sw1, sw2):\n",
    "    if sw1.ndim == 1:\n",
    "        sw1 = np.vstack([sw1, 1 - sw1]).T\n",
    "\n",
    "    if sw2.ndim == 1:\n",
    "        sw2 = np.vstack([sw2, 1 - sw2]).T\n",
    "\n",
    "    probs = np.dot(sw2, np.transpose(np.linalg.inv(np.dot(sw1.T, sw1)))) * sw1.sum(axis=0)\n",
    "    return probs[:, 1]\n",
    "pm_train = np.empty(len(X_train))\n",
    "for particle_type in range(2):\n",
    "    pid_selection = (y_train == particle_type)\n",
    "    pm_train[pid_selection] = scale(probabilities_from_s_weights(sWeight_train[pid_selection],\n",
    "                                                           sWeight_train[pid_selection]))"
   ]
  },
  {
   "cell_type": "code",
   "execution_count": null,
   "metadata": {},
   "outputs": [],
   "source": [
    "ss = np.array([1e-4, 1e-3, 1e-2, 5e-2, 1e-1, 1])"
   ]
  },
  {
   "cell_type": "code",
   "execution_count": null,
   "metadata": {},
   "outputs": [],
   "source": [
    "def get_scores(seed):\n",
    "    np.random.seed(seed)\n",
    "    res = []\n",
    "    for sample_size in ss:\n",
    "        res.append([])\n",
    "        selection = np.random.choice(len(y_train), replace=False, size=int(sample_size*len(y_test)))\n",
    "        this_X_train = X_train[selection]\n",
    "        this_y_train = y_train[selection]\n",
    "        this_sWeight_train = sWeight_train[selection]\n",
    "        this_pm_train = pm_train[selection]\n",
    "        model_noWeight = catboost.CatBoostClassifier(**params_classification).fit(this_X_train, this_y_train,\n",
    "                                                                                  plot=True)\n",
    "        res[-1].append(model_noWeight)\n",
    "        model_naive = catboost.CatBoostClassifier(**params_classification).fit(\n",
    "            this_X_train, this_y_train, sample_weight=this_sWeight_train, plot=True)\n",
    "        res[-1].append(model_naive)\n",
    "        for col, params in zip((this_sWeight_train, ), (params_regression, )):\n",
    "            transformed_sweight = np.empty(len(this_X_train))\n",
    "            for particle_type in range(2):\n",
    "                pid_selection = (this_y_train == particle_type)\n",
    "                transformed_sweight[pid_selection] = transform_weights(\n",
    "                    this_X_train[pid_selection], col[pid_selection], catboost.CatBoostRegressor(**params),\n",
    "                    cv=CV)\n",
    "            model_smart = catboost.CatBoostClassifier(**params_classification).fit(\n",
    "                this_X_train, this_y_train, sample_weight=transformed_sweight, plot=True)\n",
    "            res[-1].append(model_smart)\n",
    "        for model in res[-1]:\n",
    "            print(roc_auc(y_test, model.predict_proba(X_test)[:, 1], sWeight_test), model.tree_count_)\n",
    "    return res"
   ]
  },
  {
   "cell_type": "code",
   "execution_count": null,
   "metadata": {},
   "outputs": [],
   "source": [
    "all_models = [get_scores(i) for i in range(10)]"
   ]
  },
  {
   "cell_type": "code",
   "execution_count": null,
   "metadata": {},
   "outputs": [],
   "source": [
    "def bootstrap_roc_auc(labels, p, weights):\n",
    "    scores = []\n",
    "    for i in range(10):\n",
    "        selection = np.random.choice(len(labels), replace=True, size=len(labels))\n",
    "        scores.append(roc_auc(labels[selection], p[selection], weights[selection]))\n",
    "    return np.array(scores)"
   ]
  },
  {
   "cell_type": "code",
   "execution_count": null,
   "metadata": {},
   "outputs": [],
   "source": [
    "all_scores = [[[bootstrap_roc_auc(y_test,\n",
    "                        model.predict(X_test, prediction_type=\"RawFormulaVal\"),\n",
    "                        sWeight_test)for model in x] for x in y] for y in all_models]"
   ]
  },
  {
   "cell_type": "code",
   "execution_count": null,
   "metadata": {},
   "outputs": [],
   "source": [
    "all_scores_np = np.array(all_scores)"
   ]
  },
  {
   "cell_type": "code",
   "execution_count": null,
   "metadata": {},
   "outputs": [],
   "source": [
    "mean_scores = all_scores_np.mean(axis=(0, 3))"
   ]
  },
  {
   "cell_type": "code",
   "execution_count": null,
   "metadata": {},
   "outputs": [],
   "source": [
    "std_scores = all_scores_np.std(axis=(0, 3))"
   ]
  },
  {
   "cell_type": "code",
   "execution_count": null,
   "metadata": {},
   "outputs": [],
   "source": [
    "%matplotlib inline"
   ]
  },
  {
   "cell_type": "code",
   "execution_count": null,
   "metadata": {},
   "outputs": [],
   "source": [
    "import matplotlib.pyplot as plt"
   ]
  },
  {
   "cell_type": "code",
   "execution_count": null,
   "metadata": {},
   "outputs": [],
   "source": [
    "all_train_sizes = ss*len(X_train)"
   ]
  },
  {
   "cell_type": "code",
   "execution_count": null,
   "metadata": {},
   "outputs": [],
   "source": [
    "fig, ax = plt.subplots(figsize=(3, 3))\n",
    "ax.errorbar(all_train_sizes, mean_scores[:, 0], yerr=std_scores[:, 0], label=\"Ignoring weight\")\n",
    "ax.errorbar(all_train_sizes, mean_scores[:, 1],  yerr=std_scores[:, 1], label=\"sWeight\")\n",
    "ax.errorbar(all_train_sizes, mean_scores[:, 2],  yerr=std_scores[:, 2], label=\"Constrained MSE\")\n",
    "ax.legend()\n",
    "ax.set_xscale(\"log\")\n",
    "ax.set_xlabel(\"Train size\")\n",
    "ax.set_ylabel(\"ROC AUC $\\mu$ vs $\\pi$\")\n",
    "plt.tight_layout()\n",
    "fig.savefig(\"MuID_by_train_size.pdf\", bbox=\"tight\")"
   ]
  }
 ],
 "metadata": {
  "kernelspec": {
   "display_name": "Catboost test",
   "language": "python",
   "name": "catboost-test"
  },
  "language_info": {
   "codemirror_mode": {
    "name": "ipython",
    "version": 3
   },
   "file_extension": ".py",
   "mimetype": "text/x-python",
   "name": "python",
   "nbconvert_exporter": "python",
   "pygments_lexer": "ipython3",
   "version": "3.6.6"
  }
 },
 "nbformat": 4,
 "nbformat_minor": 2
}
