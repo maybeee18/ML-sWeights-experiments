{
 "cells": [
  {
   "cell_type": "code",
   "execution_count": 1,
   "metadata": {},
   "outputs": [],
   "source": [
    "import pickle\n",
    "import numpy as np\n",
    "from sklearn.model_selection import train_test_split\n",
    "from sklearn.metrics import roc_auc_score\n",
    "import scipy.stats\n",
    "\n",
    "import catboost\n",
    "import utils.train\n",
    "import utils.sweight\n",
    "from utils.evaluation import bootstrap_score\n",
    "from utils.higgs import FEATURES, load_uci_higgs"
   ]
  },
  {
   "cell_type": "code",
   "execution_count": 2,
   "metadata": {},
   "outputs": [],
   "source": [
    "train_full, test = load_uci_higgs(\"data/HIGGS.csv.gz\", train_test_split_seed=123444)"
   ]
  },
  {
   "cell_type": "code",
   "execution_count": 3,
   "metadata": {},
   "outputs": [],
   "source": [
    "ITERATIONS = 1000\n",
    "CPU_COUNT = 20"
   ]
  },
  {
   "cell_type": "code",
   "execution_count": 4,
   "metadata": {},
   "outputs": [],
   "source": [
    "SIGNAL_PEAK_MIDDLE = 4\n",
    "sig_mass_distr = scipy.stats.norm(loc=SIGNAL_PEAK_MIDDLE, scale=1)\n",
    "bck_mass_distr = scipy.stats.expon(scale=4)"
   ]
  },
  {
   "cell_type": "code",
   "execution_count": 5,
   "metadata": {},
   "outputs": [],
   "source": [
    "common_catboost_params = {\n",
    "    \"iterations\": ITERATIONS,\n",
    "    \"verbose\": False,\n",
    "    \"leaf_estimation_method\": \"Gradient\",\n",
    "    \"thread_count\": CPU_COUNT\n",
    "}"
   ]
  },
  {
   "cell_type": "code",
   "execution_count": 6,
   "metadata": {},
   "outputs": [],
   "source": [
    "def get_score(train_fraction, seed):\n",
    "    np.random.seed(seed)\n",
    "    train_small = train_full.sample(frac=train_fraction)\n",
    "    train_small_labels = train_small.label.values\n",
    "    train_small = train_small.loc[:, FEATURES].values\n",
    "    \n",
    "    sWeights, mass_probas, masses = utils.sweight.invent_sWeights(\n",
    "        train_small_labels, sig_mass_distr, bck_mass_distr,\n",
    "        return_probas=True, return_masses=True)\n",
    "    \n",
    "    \n",
    "    model_CWoLa = utils.train.train_cwola(train_small, masses, SIGNAL_PEAK_MIDDLE,\n",
    "                                          catboost.CatBoostClassifier(**common_catboost_params))\n",
    "    \n",
    "    predictions = []\n",
    "    for model in (model_CWoLa,):\n",
    "        predictions.append(utils.train.perdict_raw(model, test.loc[:, FEATURES].values))\n",
    "    return predictions"
   ]
  },
  {
   "cell_type": "code",
   "execution_count": 7,
   "metadata": {},
   "outputs": [],
   "source": [
    "train_size_fractions = np.array([1e-4, 1e-3, 1e-2, 1e-1, 1.])"
   ]
  },
  {
   "cell_type": "code",
   "execution_count": 8,
   "metadata": {},
   "outputs": [],
   "source": [
    "# This will take some time\n",
    "predictions = [[get_score(fraction, seed) for seed in range(10)] for fraction in train_size_fractions]"
   ]
  },
  {
   "cell_type": "code",
   "execution_count": 9,
   "metadata": {},
   "outputs": [],
   "source": [
    "predictions = np.array(predictions)"
   ]
  },
  {
   "cell_type": "code",
   "execution_count": 10,
   "metadata": {},
   "outputs": [],
   "source": [
    "np.save(\"Higgs_cb_predictions_cwola.npy\", predictions)"
   ]
  },
  {
   "cell_type": "code",
   "execution_count": 11,
   "metadata": {},
   "outputs": [],
   "source": [
    "scores = []\n",
    "for predictions_by_size in predictions:\n",
    "    scores_by_size = []\n",
    "    for predictions_by_seed in predictions_by_size:\n",
    "        scores_by_size.append([])\n",
    "        for predictions_by_model in predictions_by_seed:\n",
    "            scores_by_size[-1].append(bootstrap_score(\n",
    "                test.label.values, predictions_by_model, roc_auc_score))\n",
    "    scores_by_size = np.array(scores_by_size)\n",
    "    mean_scores = np.mean(scores_by_size, axis=(0, 2))\n",
    "    var_scores = np.std(scores_by_size, axis=(0, 2), ddof=1)\n",
    "    scores.append([mean_scores, var_scores])"
   ]
  },
  {
   "cell_type": "code",
   "execution_count": 12,
   "metadata": {},
   "outputs": [],
   "source": [
    "scores = np.array(scores)"
   ]
  },
  {
   "cell_type": "code",
   "execution_count": 13,
   "metadata": {},
   "outputs": [],
   "source": [
    "scores_dict = {}\n",
    "for model_index, model_name in enumerate((\n",
    "    \"CWoLa\",)):\n",
    "    scores_dict[model_name] = scores[:, :, model_index].T"
   ]
  },
  {
   "cell_type": "code",
   "execution_count": 14,
   "metadata": {},
   "outputs": [],
   "source": [
    "with open(\"Higgs_scores_cwola.pkl\", \"wb\") as scores_file:\n",
    "    pickle.dump([train_size_fractions*train_full.shape[0], scores_dict], scores_file)"
   ]
  }
 ],
 "metadata": {
  "kernelspec": {
   "display_name": "Catboost test",
   "language": "python",
   "name": "catboost-test"
  },
  "language_info": {
   "codemirror_mode": {
    "name": "ipython",
    "version": 3
   },
   "file_extension": ".py",
   "mimetype": "text/x-python",
   "name": "python",
   "nbconvert_exporter": "python",
   "pygments_lexer": "ipython3",
   "version": "3.6.6"
  }
 },
 "nbformat": 4,
 "nbformat_minor": 2
}
