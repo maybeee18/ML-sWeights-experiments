{
 "cells": [
  {
   "cell_type": "code",
   "execution_count": 1,
   "metadata": {},
   "outputs": [],
   "source": [
    "%matplotlib inline"
   ]
  },
  {
   "cell_type": "code",
   "execution_count": 2,
   "metadata": {},
   "outputs": [],
   "source": [
    "import numpy as np\n",
    "import pandas as pd\n",
    "import catboost\n",
    "import utils.train\n",
    "import utils.sweight\n",
    "import scipy.stats\n",
    "from utils.evaluation import bootstrap_score\n",
    "from utils.higgs import FEATURES\n",
    "from sklearn.metrics import roc_auc_score\n",
    "import pickle\n",
    "import matplotlib.pyplot as plt"
   ]
  },
  {
   "cell_type": "code",
   "execution_count": 3,
   "metadata": {},
   "outputs": [],
   "source": [
    "train_full = pd.read_hdf(\"data/higgs_split.hdf\", \"train\")\n",
    "test = pd.read_hdf(\"data/higgs_split.hdf\", \"test\")"
   ]
  },
  {
   "cell_type": "code",
   "execution_count": 4,
   "metadata": {},
   "outputs": [],
   "source": [
    "ITERATIONS = 1000\n",
    "CPU_COUNT = 20"
   ]
  },
  {
   "cell_type": "code",
   "execution_count": 5,
   "metadata": {},
   "outputs": [],
   "source": [
    "sig_mass_distr = scipy.stats.norm(loc=4, scale=1)\n",
    "bck_mass_distr = scipy.stats.expon(scale=4)"
   ]
  },
  {
   "cell_type": "code",
   "execution_count": 6,
   "metadata": {},
   "outputs": [],
   "source": [
    "common_catboost_params = {\n",
    "    \"iterations\": ITERATIONS,\n",
    "    \"verbose\": False,\n",
    "    \"leaf_estimation_method\": \"Gradient\",\n",
    "    \"thread_count\": CPU_COUNT\n",
    "}"
   ]
  },
  {
   "cell_type": "code",
   "execution_count": 7,
   "metadata": {},
   "outputs": [],
   "source": [
    "def get_score(train_fraction, seed):\n",
    "    np.random.seed(seed)\n",
    "    train_small = train_full.sample(frac=train_fraction)\n",
    "    train_small_labels = train_small.label.values\n",
    "    train_small = train_small.loc[:, FEATURES].values\n",
    "    \n",
    "    sWeights, mass_probas = utils.sweight.invent_sWeights(\n",
    "        train_small_labels, sig_mass_distr, bck_mass_distr, return_probas=True)\n",
    "    \n",
    "    model_likelihood = catboost.CatBoostRegressor(loss_function=\"HonestLikelihood\", **common_catboost_params)\n",
    "    model_likelihood.fit(train_small, mass_probas)\n",
    "    \n",
    "    model_constrained_MSE = catboost.CatBoostRegressor(loss_function=\"ConstrainedRegression\",\n",
    "                                                       **common_catboost_params)\n",
    "    model_constrained_MSE.fit(train_small, sWeights)\n",
    "    \n",
    "    model_naive_sWeight = catboost.CatBoostClassifier(**common_catboost_params)\n",
    "    model_naive_sWeight = utils.train.train_on_sWeights_signal_vs_background_naive(\n",
    "        train_small, sWeights, model_naive_sWeight)\n",
    "    \n",
    "    model_labels = catboost.CatBoostClassifier(**common_catboost_params).fit(\n",
    "        train_small, train_small_labels)\n",
    "    \n",
    "    predictions = []\n",
    "    for model in (model_likelihood, model_constrained_MSE, model_naive_sWeight, model_labels):\n",
    "        predictions.append(utils.train.perdict_raw(model, test.loc[:, FEATURES].values))\n",
    "    return predictions"
   ]
  },
  {
   "cell_type": "code",
   "execution_count": 8,
   "metadata": {},
   "outputs": [],
   "source": [
    "train_size_fractions = np.array([1e-4, 1e-3, 1e-2, 1e-1, 1.])"
   ]
  },
  {
   "cell_type": "code",
   "execution_count": null,
   "metadata": {},
   "outputs": [],
   "source": [
    "# This will take some time\n",
    "predictions = [[get_score(fraction, seed) for seed in range(10)] for fraction in train_size_fractions]"
   ]
  },
  {
   "cell_type": "code",
   "execution_count": null,
   "metadata": {},
   "outputs": [],
   "source": [
    "predictions = np.array(predictions)"
   ]
  },
  {
   "cell_type": "code",
   "execution_count": null,
   "metadata": {},
   "outputs": [],
   "source": [
    "np.save(\"Higgs_cb_predictions.npy\", predictions)"
   ]
  },
  {
   "cell_type": "code",
   "execution_count": null,
   "metadata": {},
   "outputs": [],
   "source": [
    "scores = []\n",
    "for predictions_by_size in predictions:\n",
    "    scores_by_size = []\n",
    "    for predictions_by_seed in predictions_by_size:\n",
    "        scores_by_size.append([])\n",
    "        for predictions_by_model in predictions_by_seed:\n",
    "            scores_by_size[-1].append(bootstrap_score(\n",
    "                test.label.values, predictions_by_model, roc_auc_score))\n",
    "    scores_by_size = np.array(scores_by_size)\n",
    "    mean_scores = np.mean(scores_by_size, axis=(0, 2))\n",
    "    var_scores = np.var(scores_by_size, axis=(0, 2))\n",
    "    scores.append([mean_scores, var_scores])"
   ]
  },
  {
   "cell_type": "code",
   "execution_count": null,
   "metadata": {},
   "outputs": [],
   "source": [
    "scores = np.array(scores)"
   ]
  },
  {
   "cell_type": "code",
   "execution_count": null,
   "metadata": {},
   "outputs": [],
   "source": [
    "scores_dict = {}\n",
    "for model_index, model_name in enumerate((\n",
    "    \"Likelihood\", \"Constrained MSE\", \"sWeight\", \"True labels\")):\n",
    "    scores_dict[model_name] = scores[:, :, model_index].T"
   ]
  },
  {
   "cell_type": "code",
   "execution_count": null,
   "metadata": {},
   "outputs": [],
   "source": [
    "with open(\"Higgs_scores.pkl\", \"wb\") as scores_file:\n",
    "    pickle.dump([train_size_fractions*train_full.shape[0], scores_dict], scores_file)"
   ]
  }
 ],
 "metadata": {
  "kernelspec": {
   "display_name": "Catboost test",
   "language": "python",
   "name": "catboost-test"
  },
  "language_info": {
   "codemirror_mode": {
    "name": "ipython",
    "version": 3
   },
   "file_extension": ".py",
   "mimetype": "text/x-python",
   "name": "python",
   "nbconvert_exporter": "python",
   "pygments_lexer": "ipython3",
   "version": "3.6.6"
  }
 },
 "nbformat": 4,
 "nbformat_minor": 2
}
